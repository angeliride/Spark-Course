{
  "nbformat": 4,
  "nbformat_minor": 0,
  "metadata": {
    "colab": {
      "provenance": [],
      "authorship_tag": "ABX9TyPusJWCN4Z1sBaD3cWQC9IR"
    },
    "kernelspec": {
      "name": "python3",
      "display_name": "Python 3"
    },
    "language_info": {
      "name": "python"
    }
  },
  "cells": [
    {
      "cell_type": "code",
      "execution_count": null,
      "metadata": {
        "id": "7rGG-BiaTu2s"
      },
      "outputs": [],
      "source": [
        "import pyspark\n",
        "from pyspark.sql import SparkSession\n",
        "from pyspark.sql.types import StructType, StructField, IntegerType, StringType\n",
        "from pyspark.sql.functions import col\n",
        "from pyspark.sql.functions import max, avg, min\n",
        "from pyspark.sql.window import Window\n",
        "from pyspark.sql.functions import row_number\n",
        "from pyspark.sql.functions import when"
      ]
    },
    {
      "cell_type": "code",
      "source": [
        "!pip install pyspark findspark"
      ],
      "metadata": {
        "colab": {
          "base_uri": "https://localhost:8080/"
        },
        "id": "WIRB-hnvVWyH",
        "outputId": "fe627df4-f733-4620-e40d-54c66787889d"
      },
      "execution_count": null,
      "outputs": [
        {
          "output_type": "stream",
          "name": "stdout",
          "text": [
            "Requirement already satisfied: pyspark in /usr/local/lib/python3.11/dist-packages (3.5.1)\n",
            "Collecting findspark\n",
            "  Downloading findspark-2.0.1-py2.py3-none-any.whl.metadata (352 bytes)\n",
            "Requirement already satisfied: py4j==0.10.9.7 in /usr/local/lib/python3.11/dist-packages (from pyspark) (0.10.9.7)\n",
            "Downloading findspark-2.0.1-py2.py3-none-any.whl (4.4 kB)\n",
            "Installing collected packages: findspark\n",
            "Successfully installed findspark-2.0.1\n"
          ]
        }
      ]
    },
    {
      "cell_type": "code",
      "source": [
        "import findspark\n",
        "findspark.init()"
      ],
      "metadata": {
        "id": "TD_IJJuZU4pt"
      },
      "execution_count": null,
      "outputs": []
    },
    {
      "cell_type": "markdown",
      "source": [
        "create local SparkSession"
      ],
      "metadata": {
        "id": "wuoOeRqNd1dI"
      }
    },
    {
      "cell_type": "code",
      "source": [
        "spark = SparkSession.builder.master(\"local[*]\").appName(\"PySpark_Basics\").getOrCreate()\n",
        "spark"
      ],
      "metadata": {
        "colab": {
          "base_uri": "https://localhost:8080/",
          "height": 219
        },
        "id": "s2OqhssXVabF",
        "outputId": "1e508da7-15f0-414e-d6dc-4d5d15b1b986"
      },
      "execution_count": null,
      "outputs": [
        {
          "output_type": "execute_result",
          "data": {
            "text/plain": [
              "<pyspark.sql.session.SparkSession at 0x7e59613cc490>"
            ],
            "text/html": [
              "\n",
              "            <div>\n",
              "                <p><b>SparkSession - in-memory</b></p>\n",
              "                \n",
              "        <div>\n",
              "            <p><b>SparkContext</b></p>\n",
              "\n",
              "            <p><a href=\"http://bee3187ac2c1:4040\">Spark UI</a></p>\n",
              "\n",
              "            <dl>\n",
              "              <dt>Version</dt>\n",
              "                <dd><code>v3.5.1</code></dd>\n",
              "              <dt>Master</dt>\n",
              "                <dd><code>local[*]</code></dd>\n",
              "              <dt>AppName</dt>\n",
              "                <dd><code>PySpark_Basics</code></dd>\n",
              "            </dl>\n",
              "        </div>\n",
              "        \n",
              "            </div>\n",
              "        "
            ]
          },
          "metadata": {},
          "execution_count": 3
        }
      ]
    },
    {
      "cell_type": "markdown",
      "source": [
        "read csv with inferschema"
      ],
      "metadata": {
        "id": "XqcDSlt2d5ml"
      }
    },
    {
      "cell_type": "code",
      "source": [
        "df = spark.read.csv(\"ds_salaries.csv\", header=True, inferSchema=True)\n",
        "df.show(10)"
      ],
      "metadata": {
        "colab": {
          "base_uri": "https://localhost:8080/"
        },
        "id": "jvQbWWktW1IX",
        "outputId": "769be317-459a-480f-fa52-3b9837b46591"
      },
      "execution_count": null,
      "outputs": [
        {
          "output_type": "stream",
          "name": "stdout",
          "text": [
            "+---+---------+----------------+---------------+--------------------+--------+---------------+-------------+------------------+------------+----------------+------------+\n",
            "|_c0|work_year|experience_level|employment_type|           job_title|  salary|salary_currency|salary_in_usd|employee_residence|remote_ratio|company_location|company_size|\n",
            "+---+---------+----------------+---------------+--------------------+--------+---------------+-------------+------------------+------------+----------------+------------+\n",
            "|  0|     2020|              MI|             FT|      Data Scientist|   70000|            EUR|        79833|                DE|           0|              DE|           L|\n",
            "|  1|     2020|              SE|             FT|Machine Learning ...|  260000|            USD|       260000|                JP|           0|              JP|           S|\n",
            "|  2|     2020|              SE|             FT|   Big Data Engineer|   85000|            GBP|       109024|                GB|          50|              GB|           M|\n",
            "|  3|     2020|              MI|             FT|Product Data Analyst|   20000|            USD|        20000|                HN|           0|              HN|           S|\n",
            "|  4|     2020|              SE|             FT|Machine Learning ...|  150000|            USD|       150000|                US|          50|              US|           L|\n",
            "|  5|     2020|              EN|             FT|        Data Analyst|   72000|            USD|        72000|                US|         100|              US|           L|\n",
            "|  6|     2020|              SE|             FT| Lead Data Scientist|  190000|            USD|       190000|                US|         100|              US|           S|\n",
            "|  7|     2020|              MI|             FT|      Data Scientist|11000000|            HUF|        35735|                HU|          50|              HU|           L|\n",
            "|  8|     2020|              MI|             FT|Business Data Ana...|  135000|            USD|       135000|                US|         100|              US|           L|\n",
            "|  9|     2020|              SE|             FT|  Lead Data Engineer|  125000|            USD|       125000|                NZ|          50|              NZ|           S|\n",
            "+---+---------+----------------+---------------+--------------------+--------+---------------+-------------+------------------+------------+----------------+------------+\n",
            "only showing top 10 rows\n",
            "\n"
          ]
        }
      ]
    },
    {
      "cell_type": "markdown",
      "source": [
        "read csv one more time with the same code and you will see that it almostly don't take time, because info already in SparkSession and it will not read nothing from this file"
      ],
      "metadata": {
        "id": "v_XSdTdXd9jP"
      }
    },
    {
      "cell_type": "code",
      "source": [
        "%%time\n",
        "df = spark.read.csv(\"ds_salaries.csv\", header=True, inferSchema=True)"
      ],
      "metadata": {
        "colab": {
          "base_uri": "https://localhost:8080/"
        },
        "id": "UCCMbSObX-sN",
        "outputId": "a82fa28b-24cc-492b-e4bb-58394eb42a7d"
      },
      "execution_count": null,
      "outputs": [
        {
          "output_type": "stream",
          "name": "stdout",
          "text": [
            "CPU times: user 619 µs, sys: 1.96 ms, total: 2.58 ms\n",
            "Wall time: 670 ms\n"
          ]
        }
      ]
    },
    {
      "cell_type": "code",
      "source": [
        "df.printSchema()"
      ],
      "metadata": {
        "colab": {
          "base_uri": "https://localhost:8080/"
        },
        "id": "UK-j-uC5YbGZ",
        "outputId": "106ee82a-5c1f-415c-dc07-c5af23e2b488"
      },
      "execution_count": null,
      "outputs": [
        {
          "output_type": "stream",
          "name": "stdout",
          "text": [
            "root\n",
            " |-- _c0: integer (nullable = true)\n",
            " |-- work_year: integer (nullable = true)\n",
            " |-- experience_level: string (nullable = true)\n",
            " |-- employment_type: string (nullable = true)\n",
            " |-- job_title: string (nullable = true)\n",
            " |-- salary: integer (nullable = true)\n",
            " |-- salary_currency: string (nullable = true)\n",
            " |-- salary_in_usd: integer (nullable = true)\n",
            " |-- employee_residence: string (nullable = true)\n",
            " |-- remote_ratio: integer (nullable = true)\n",
            " |-- company_location: string (nullable = true)\n",
            " |-- company_size: string (nullable = true)\n",
            "\n"
          ]
        }
      ]
    },
    {
      "cell_type": "markdown",
      "source": [
        "create schema of this csv"
      ],
      "metadata": {
        "id": "tGxWQtcGeJt6"
      }
    },
    {
      "cell_type": "code",
      "source": [
        "schema = StructType([\n",
        "    StructField(\"_c0\", IntegerType(), True),\n",
        "    StructField(\"work_year\", IntegerType(), True),\n",
        "    StructField(\"experience_level\", StringType(), True),\n",
        "    StructField(\"employment_type\", StringType(), True),\n",
        "    StructField(\"job_title\", StringType(), True),\n",
        "    StructField(\"salary\", IntegerType(), True),\n",
        "    StructField(\"salary_currency\", StringType(), True),\n",
        "    StructField(\"salary_in_usd\", IntegerType(), True),\n",
        "    StructField(\"employee_residence\", StringType(), True),\n",
        "    StructField(\"remote_ratio\", IntegerType(), True),\n",
        "    StructField(\"company_location\", StringType(), True),\n",
        "    StructField(\"company_size\", StringType(), True)\n",
        "])"
      ],
      "metadata": {
        "id": "Hvmm7qfoZaLO"
      },
      "execution_count": null,
      "outputs": []
    },
    {
      "cell_type": "code",
      "source": [
        "df = spark.read.csv(\"ds_salaries.csv\", header=True, schema=schema)\n",
        "df.show(10)\n",
        "df.printSchema()"
      ],
      "metadata": {
        "colab": {
          "base_uri": "https://localhost:8080/"
        },
        "id": "A4hrAGdNbn0W",
        "outputId": "ab75217e-cf2e-4d5a-e12c-4194f16e1886"
      },
      "execution_count": null,
      "outputs": [
        {
          "output_type": "stream",
          "name": "stdout",
          "text": [
            "+---+---------+----------------+---------------+--------------------+--------+---------------+-------------+------------------+------------+----------------+------------+\n",
            "|_c0|work_year|experience_level|employment_type|           job_title|  salary|salary_currency|salary_in_usd|employee_residence|remote_ratio|company_location|company_size|\n",
            "+---+---------+----------------+---------------+--------------------+--------+---------------+-------------+------------------+------------+----------------+------------+\n",
            "|  0|     2020|              MI|             FT|      Data Scientist|   70000|            EUR|        79833|                DE|           0|              DE|           L|\n",
            "|  1|     2020|              SE|             FT|Machine Learning ...|  260000|            USD|       260000|                JP|           0|              JP|           S|\n",
            "|  2|     2020|              SE|             FT|   Big Data Engineer|   85000|            GBP|       109024|                GB|          50|              GB|           M|\n",
            "|  3|     2020|              MI|             FT|Product Data Analyst|   20000|            USD|        20000|                HN|           0|              HN|           S|\n",
            "|  4|     2020|              SE|             FT|Machine Learning ...|  150000|            USD|       150000|                US|          50|              US|           L|\n",
            "|  5|     2020|              EN|             FT|        Data Analyst|   72000|            USD|        72000|                US|         100|              US|           L|\n",
            "|  6|     2020|              SE|             FT| Lead Data Scientist|  190000|            USD|       190000|                US|         100|              US|           S|\n",
            "|  7|     2020|              MI|             FT|      Data Scientist|11000000|            HUF|        35735|                HU|          50|              HU|           L|\n",
            "|  8|     2020|              MI|             FT|Business Data Ana...|  135000|            USD|       135000|                US|         100|              US|           L|\n",
            "|  9|     2020|              SE|             FT|  Lead Data Engineer|  125000|            USD|       125000|                NZ|          50|              NZ|           S|\n",
            "+---+---------+----------------+---------------+--------------------+--------+---------------+-------------+------------------+------------+----------------+------------+\n",
            "only showing top 10 rows\n",
            "\n",
            "root\n",
            " |-- _c0: integer (nullable = true)\n",
            " |-- work_year: integer (nullable = true)\n",
            " |-- experience_level: string (nullable = true)\n",
            " |-- employment_type: string (nullable = true)\n",
            " |-- job_title: string (nullable = true)\n",
            " |-- salary: integer (nullable = true)\n",
            " |-- salary_currency: string (nullable = true)\n",
            " |-- salary_in_usd: integer (nullable = true)\n",
            " |-- employee_residence: string (nullable = true)\n",
            " |-- remote_ratio: integer (nullable = true)\n",
            " |-- company_location: string (nullable = true)\n",
            " |-- company_size: string (nullable = true)\n",
            "\n"
          ]
        }
      ]
    },
    {
      "cell_type": "code",
      "source": [
        "df_infer = spark.read.csv(\"ds_salaries.csv\", header=True, inferSchema=True)\n",
        "df_infer.show(5)\n",
        "df_infer.printSchema()"
      ],
      "metadata": {
        "colab": {
          "base_uri": "https://localhost:8080/"
        },
        "id": "Rc6RDWyXdbdE",
        "outputId": "2d4a400f-7042-4dc2-fbac-0613c0bf5bc1"
      },
      "execution_count": null,
      "outputs": [
        {
          "output_type": "stream",
          "name": "stdout",
          "text": [
            "+---+---------+----------------+---------------+--------------------+------+---------------+-------------+------------------+------------+----------------+------------+\n",
            "|_c0|work_year|experience_level|employment_type|           job_title|salary|salary_currency|salary_in_usd|employee_residence|remote_ratio|company_location|company_size|\n",
            "+---+---------+----------------+---------------+--------------------+------+---------------+-------------+------------------+------------+----------------+------------+\n",
            "|  0|     2020|              MI|             FT|      Data Scientist| 70000|            EUR|        79833|                DE|           0|              DE|           L|\n",
            "|  1|     2020|              SE|             FT|Machine Learning ...|260000|            USD|       260000|                JP|           0|              JP|           S|\n",
            "|  2|     2020|              SE|             FT|   Big Data Engineer| 85000|            GBP|       109024|                GB|          50|              GB|           M|\n",
            "|  3|     2020|              MI|             FT|Product Data Analyst| 20000|            USD|        20000|                HN|           0|              HN|           S|\n",
            "|  4|     2020|              SE|             FT|Machine Learning ...|150000|            USD|       150000|                US|          50|              US|           L|\n",
            "+---+---------+----------------+---------------+--------------------+------+---------------+-------------+------------------+------------+----------------+------------+\n",
            "only showing top 5 rows\n",
            "\n",
            "root\n",
            " |-- _c0: integer (nullable = true)\n",
            " |-- work_year: integer (nullable = true)\n",
            " |-- experience_level: string (nullable = true)\n",
            " |-- employment_type: string (nullable = true)\n",
            " |-- job_title: string (nullable = true)\n",
            " |-- salary: integer (nullable = true)\n",
            " |-- salary_currency: string (nullable = true)\n",
            " |-- salary_in_usd: integer (nullable = true)\n",
            " |-- employee_residence: string (nullable = true)\n",
            " |-- remote_ratio: integer (nullable = true)\n",
            " |-- company_location: string (nullable = true)\n",
            " |-- company_size: string (nullable = true)\n",
            "\n"
          ]
        }
      ]
    },
    {
      "cell_type": "markdown",
      "source": [
        "print data in dataframe using df.show"
      ],
      "metadata": {
        "id": "kiuFSxj2eYhm"
      }
    },
    {
      "cell_type": "code",
      "source": [
        "df.show()"
      ],
      "metadata": {
        "colab": {
          "base_uri": "https://localhost:8080/"
        },
        "id": "l5UP0HyAedWL",
        "outputId": "e2094037-bcb1-4705-edbb-563efaa4c054"
      },
      "execution_count": null,
      "outputs": [
        {
          "output_type": "stream",
          "name": "stdout",
          "text": [
            "+---+---------+----------------+---------------+--------------------+--------+---------------+-------------+------------------+------------+----------------+------------+\n",
            "|_c0|work_year|experience_level|employment_type|           job_title|  salary|salary_currency|salary_in_usd|employee_residence|remote_ratio|company_location|company_size|\n",
            "+---+---------+----------------+---------------+--------------------+--------+---------------+-------------+------------------+------------+----------------+------------+\n",
            "|  0|     2020|              MI|             FT|      Data Scientist|   70000|            EUR|        79833|                DE|           0|              DE|           L|\n",
            "|  1|     2020|              SE|             FT|Machine Learning ...|  260000|            USD|       260000|                JP|           0|              JP|           S|\n",
            "|  2|     2020|              SE|             FT|   Big Data Engineer|   85000|            GBP|       109024|                GB|          50|              GB|           M|\n",
            "|  3|     2020|              MI|             FT|Product Data Analyst|   20000|            USD|        20000|                HN|           0|              HN|           S|\n",
            "|  4|     2020|              SE|             FT|Machine Learning ...|  150000|            USD|       150000|                US|          50|              US|           L|\n",
            "|  5|     2020|              EN|             FT|        Data Analyst|   72000|            USD|        72000|                US|         100|              US|           L|\n",
            "|  6|     2020|              SE|             FT| Lead Data Scientist|  190000|            USD|       190000|                US|         100|              US|           S|\n",
            "|  7|     2020|              MI|             FT|      Data Scientist|11000000|            HUF|        35735|                HU|          50|              HU|           L|\n",
            "|  8|     2020|              MI|             FT|Business Data Ana...|  135000|            USD|       135000|                US|         100|              US|           L|\n",
            "|  9|     2020|              SE|             FT|  Lead Data Engineer|  125000|            USD|       125000|                NZ|          50|              NZ|           S|\n",
            "| 10|     2020|              EN|             FT|      Data Scientist|   45000|            EUR|        51321|                FR|           0|              FR|           S|\n",
            "| 11|     2020|              MI|             FT|      Data Scientist| 3000000|            INR|        40481|                IN|           0|              IN|           L|\n",
            "| 12|     2020|              EN|             FT|      Data Scientist|   35000|            EUR|        39916|                FR|           0|              FR|           M|\n",
            "| 13|     2020|              MI|             FT|   Lead Data Analyst|   87000|            USD|        87000|                US|         100|              US|           L|\n",
            "| 14|     2020|              MI|             FT|        Data Analyst|   85000|            USD|        85000|                US|         100|              US|           L|\n",
            "| 15|     2020|              MI|             FT|        Data Analyst|    8000|            USD|         8000|                PK|          50|              PK|           L|\n",
            "| 16|     2020|              EN|             FT|       Data Engineer| 4450000|            JPY|        41689|                JP|         100|              JP|           S|\n",
            "| 17|     2020|              SE|             FT|   Big Data Engineer|  100000|            EUR|       114047|                PL|         100|              GB|           S|\n",
            "| 18|     2020|              EN|             FT|Data Science Cons...|  423000|            INR|         5707|                IN|          50|              IN|           M|\n",
            "| 19|     2020|              MI|             FT|  Lead Data Engineer|   56000|            USD|        56000|                PT|         100|              US|           M|\n",
            "+---+---------+----------------+---------------+--------------------+--------+---------------+-------------+------------------+------------+----------------+------------+\n",
            "only showing top 20 rows\n",
            "\n"
          ]
        }
      ]
    },
    {
      "cell_type": "markdown",
      "source": [
        "print data in dataframe using display(df.toPandas())"
      ],
      "metadata": {
        "id": "lL-2yMJHebos"
      }
    },
    {
      "cell_type": "code",
      "source": [
        "display(df.toPandas())"
      ],
      "metadata": {
        "colab": {
          "base_uri": "https://localhost:8080/",
          "height": 475
        },
        "id": "ZjOeXQg0hBy5",
        "outputId": "fc5a26ea-f6dc-4142-c707-ff27e75a9459"
      },
      "execution_count": null,
      "outputs": [
        {
          "output_type": "display_data",
          "data": {
            "text/plain": [
              "     _c0  work_year experience_level employment_type  \\\n",
              "0      0       2020               MI              FT   \n",
              "1      1       2020               SE              FT   \n",
              "2      2       2020               SE              FT   \n",
              "3      3       2020               MI              FT   \n",
              "4      4       2020               SE              FT   \n",
              "..   ...        ...              ...             ...   \n",
              "602  602       2022               SE              FT   \n",
              "603  603       2022               SE              FT   \n",
              "604  604       2022               SE              FT   \n",
              "605  605       2022               SE              FT   \n",
              "606  606       2022               MI              FT   \n",
              "\n",
              "                      job_title  salary salary_currency  salary_in_usd  \\\n",
              "0                Data Scientist   70000             EUR          79833   \n",
              "1    Machine Learning Scientist  260000             USD         260000   \n",
              "2             Big Data Engineer   85000             GBP         109024   \n",
              "3          Product Data Analyst   20000             USD          20000   \n",
              "4     Machine Learning Engineer  150000             USD         150000   \n",
              "..                          ...     ...             ...            ...   \n",
              "602               Data Engineer  154000             USD         154000   \n",
              "603               Data Engineer  126000             USD         126000   \n",
              "604                Data Analyst  129000             USD         129000   \n",
              "605                Data Analyst  150000             USD         150000   \n",
              "606                AI Scientist  200000             USD         200000   \n",
              "\n",
              "    employee_residence  remote_ratio company_location company_size  \n",
              "0                   DE             0               DE            L  \n",
              "1                   JP             0               JP            S  \n",
              "2                   GB            50               GB            M  \n",
              "3                   HN             0               HN            S  \n",
              "4                   US            50               US            L  \n",
              "..                 ...           ...              ...          ...  \n",
              "602                 US           100               US            M  \n",
              "603                 US           100               US            M  \n",
              "604                 US             0               US            M  \n",
              "605                 US           100               US            M  \n",
              "606                 IN           100               US            L  \n",
              "\n",
              "[607 rows x 12 columns]"
            ],
            "text/html": [
              "\n",
              "  <div id=\"df-5d5b2967-fc42-470e-bdef-2d87133167dd\" class=\"colab-df-container\">\n",
              "    <div>\n",
              "<style scoped>\n",
              "    .dataframe tbody tr th:only-of-type {\n",
              "        vertical-align: middle;\n",
              "    }\n",
              "\n",
              "    .dataframe tbody tr th {\n",
              "        vertical-align: top;\n",
              "    }\n",
              "\n",
              "    .dataframe thead th {\n",
              "        text-align: right;\n",
              "    }\n",
              "</style>\n",
              "<table border=\"1\" class=\"dataframe\">\n",
              "  <thead>\n",
              "    <tr style=\"text-align: right;\">\n",
              "      <th></th>\n",
              "      <th>_c0</th>\n",
              "      <th>work_year</th>\n",
              "      <th>experience_level</th>\n",
              "      <th>employment_type</th>\n",
              "      <th>job_title</th>\n",
              "      <th>salary</th>\n",
              "      <th>salary_currency</th>\n",
              "      <th>salary_in_usd</th>\n",
              "      <th>employee_residence</th>\n",
              "      <th>remote_ratio</th>\n",
              "      <th>company_location</th>\n",
              "      <th>company_size</th>\n",
              "    </tr>\n",
              "  </thead>\n",
              "  <tbody>\n",
              "    <tr>\n",
              "      <th>0</th>\n",
              "      <td>0</td>\n",
              "      <td>2020</td>\n",
              "      <td>MI</td>\n",
              "      <td>FT</td>\n",
              "      <td>Data Scientist</td>\n",
              "      <td>70000</td>\n",
              "      <td>EUR</td>\n",
              "      <td>79833</td>\n",
              "      <td>DE</td>\n",
              "      <td>0</td>\n",
              "      <td>DE</td>\n",
              "      <td>L</td>\n",
              "    </tr>\n",
              "    <tr>\n",
              "      <th>1</th>\n",
              "      <td>1</td>\n",
              "      <td>2020</td>\n",
              "      <td>SE</td>\n",
              "      <td>FT</td>\n",
              "      <td>Machine Learning Scientist</td>\n",
              "      <td>260000</td>\n",
              "      <td>USD</td>\n",
              "      <td>260000</td>\n",
              "      <td>JP</td>\n",
              "      <td>0</td>\n",
              "      <td>JP</td>\n",
              "      <td>S</td>\n",
              "    </tr>\n",
              "    <tr>\n",
              "      <th>2</th>\n",
              "      <td>2</td>\n",
              "      <td>2020</td>\n",
              "      <td>SE</td>\n",
              "      <td>FT</td>\n",
              "      <td>Big Data Engineer</td>\n",
              "      <td>85000</td>\n",
              "      <td>GBP</td>\n",
              "      <td>109024</td>\n",
              "      <td>GB</td>\n",
              "      <td>50</td>\n",
              "      <td>GB</td>\n",
              "      <td>M</td>\n",
              "    </tr>\n",
              "    <tr>\n",
              "      <th>3</th>\n",
              "      <td>3</td>\n",
              "      <td>2020</td>\n",
              "      <td>MI</td>\n",
              "      <td>FT</td>\n",
              "      <td>Product Data Analyst</td>\n",
              "      <td>20000</td>\n",
              "      <td>USD</td>\n",
              "      <td>20000</td>\n",
              "      <td>HN</td>\n",
              "      <td>0</td>\n",
              "      <td>HN</td>\n",
              "      <td>S</td>\n",
              "    </tr>\n",
              "    <tr>\n",
              "      <th>4</th>\n",
              "      <td>4</td>\n",
              "      <td>2020</td>\n",
              "      <td>SE</td>\n",
              "      <td>FT</td>\n",
              "      <td>Machine Learning Engineer</td>\n",
              "      <td>150000</td>\n",
              "      <td>USD</td>\n",
              "      <td>150000</td>\n",
              "      <td>US</td>\n",
              "      <td>50</td>\n",
              "      <td>US</td>\n",
              "      <td>L</td>\n",
              "    </tr>\n",
              "    <tr>\n",
              "      <th>...</th>\n",
              "      <td>...</td>\n",
              "      <td>...</td>\n",
              "      <td>...</td>\n",
              "      <td>...</td>\n",
              "      <td>...</td>\n",
              "      <td>...</td>\n",
              "      <td>...</td>\n",
              "      <td>...</td>\n",
              "      <td>...</td>\n",
              "      <td>...</td>\n",
              "      <td>...</td>\n",
              "      <td>...</td>\n",
              "    </tr>\n",
              "    <tr>\n",
              "      <th>602</th>\n",
              "      <td>602</td>\n",
              "      <td>2022</td>\n",
              "      <td>SE</td>\n",
              "      <td>FT</td>\n",
              "      <td>Data Engineer</td>\n",
              "      <td>154000</td>\n",
              "      <td>USD</td>\n",
              "      <td>154000</td>\n",
              "      <td>US</td>\n",
              "      <td>100</td>\n",
              "      <td>US</td>\n",
              "      <td>M</td>\n",
              "    </tr>\n",
              "    <tr>\n",
              "      <th>603</th>\n",
              "      <td>603</td>\n",
              "      <td>2022</td>\n",
              "      <td>SE</td>\n",
              "      <td>FT</td>\n",
              "      <td>Data Engineer</td>\n",
              "      <td>126000</td>\n",
              "      <td>USD</td>\n",
              "      <td>126000</td>\n",
              "      <td>US</td>\n",
              "      <td>100</td>\n",
              "      <td>US</td>\n",
              "      <td>M</td>\n",
              "    </tr>\n",
              "    <tr>\n",
              "      <th>604</th>\n",
              "      <td>604</td>\n",
              "      <td>2022</td>\n",
              "      <td>SE</td>\n",
              "      <td>FT</td>\n",
              "      <td>Data Analyst</td>\n",
              "      <td>129000</td>\n",
              "      <td>USD</td>\n",
              "      <td>129000</td>\n",
              "      <td>US</td>\n",
              "      <td>0</td>\n",
              "      <td>US</td>\n",
              "      <td>M</td>\n",
              "    </tr>\n",
              "    <tr>\n",
              "      <th>605</th>\n",
              "      <td>605</td>\n",
              "      <td>2022</td>\n",
              "      <td>SE</td>\n",
              "      <td>FT</td>\n",
              "      <td>Data Analyst</td>\n",
              "      <td>150000</td>\n",
              "      <td>USD</td>\n",
              "      <td>150000</td>\n",
              "      <td>US</td>\n",
              "      <td>100</td>\n",
              "      <td>US</td>\n",
              "      <td>M</td>\n",
              "    </tr>\n",
              "    <tr>\n",
              "      <th>606</th>\n",
              "      <td>606</td>\n",
              "      <td>2022</td>\n",
              "      <td>MI</td>\n",
              "      <td>FT</td>\n",
              "      <td>AI Scientist</td>\n",
              "      <td>200000</td>\n",
              "      <td>USD</td>\n",
              "      <td>200000</td>\n",
              "      <td>IN</td>\n",
              "      <td>100</td>\n",
              "      <td>US</td>\n",
              "      <td>L</td>\n",
              "    </tr>\n",
              "  </tbody>\n",
              "</table>\n",
              "<p>607 rows × 12 columns</p>\n",
              "</div>\n",
              "    <div class=\"colab-df-buttons\">\n",
              "\n",
              "  <div class=\"colab-df-container\">\n",
              "    <button class=\"colab-df-convert\" onclick=\"convertToInteractive('df-5d5b2967-fc42-470e-bdef-2d87133167dd')\"\n",
              "            title=\"Convert this dataframe to an interactive table.\"\n",
              "            style=\"display:none;\">\n",
              "\n",
              "  <svg xmlns=\"http://www.w3.org/2000/svg\" height=\"24px\" viewBox=\"0 -960 960 960\">\n",
              "    <path d=\"M120-120v-720h720v720H120Zm60-500h600v-160H180v160Zm220 220h160v-160H400v160Zm0 220h160v-160H400v160ZM180-400h160v-160H180v160Zm440 0h160v-160H620v160ZM180-180h160v-160H180v160Zm440 0h160v-160H620v160Z\"/>\n",
              "  </svg>\n",
              "    </button>\n",
              "\n",
              "  <style>\n",
              "    .colab-df-container {\n",
              "      display:flex;\n",
              "      gap: 12px;\n",
              "    }\n",
              "\n",
              "    .colab-df-convert {\n",
              "      background-color: #E8F0FE;\n",
              "      border: none;\n",
              "      border-radius: 50%;\n",
              "      cursor: pointer;\n",
              "      display: none;\n",
              "      fill: #1967D2;\n",
              "      height: 32px;\n",
              "      padding: 0 0 0 0;\n",
              "      width: 32px;\n",
              "    }\n",
              "\n",
              "    .colab-df-convert:hover {\n",
              "      background-color: #E2EBFA;\n",
              "      box-shadow: 0px 1px 2px rgba(60, 64, 67, 0.3), 0px 1px 3px 1px rgba(60, 64, 67, 0.15);\n",
              "      fill: #174EA6;\n",
              "    }\n",
              "\n",
              "    .colab-df-buttons div {\n",
              "      margin-bottom: 4px;\n",
              "    }\n",
              "\n",
              "    [theme=dark] .colab-df-convert {\n",
              "      background-color: #3B4455;\n",
              "      fill: #D2E3FC;\n",
              "    }\n",
              "\n",
              "    [theme=dark] .colab-df-convert:hover {\n",
              "      background-color: #434B5C;\n",
              "      box-shadow: 0px 1px 3px 1px rgba(0, 0, 0, 0.15);\n",
              "      filter: drop-shadow(0px 1px 2px rgba(0, 0, 0, 0.3));\n",
              "      fill: #FFFFFF;\n",
              "    }\n",
              "  </style>\n",
              "\n",
              "    <script>\n",
              "      const buttonEl =\n",
              "        document.querySelector('#df-5d5b2967-fc42-470e-bdef-2d87133167dd button.colab-df-convert');\n",
              "      buttonEl.style.display =\n",
              "        google.colab.kernel.accessAllowed ? 'block' : 'none';\n",
              "\n",
              "      async function convertToInteractive(key) {\n",
              "        const element = document.querySelector('#df-5d5b2967-fc42-470e-bdef-2d87133167dd');\n",
              "        const dataTable =\n",
              "          await google.colab.kernel.invokeFunction('convertToInteractive',\n",
              "                                                    [key], {});\n",
              "        if (!dataTable) return;\n",
              "\n",
              "        const docLinkHtml = 'Like what you see? Visit the ' +\n",
              "          '<a target=\"_blank\" href=https://colab.research.google.com/notebooks/data_table.ipynb>data table notebook</a>'\n",
              "          + ' to learn more about interactive tables.';\n",
              "        element.innerHTML = '';\n",
              "        dataTable['output_type'] = 'display_data';\n",
              "        await google.colab.output.renderOutput(dataTable, element);\n",
              "        const docLink = document.createElement('div');\n",
              "        docLink.innerHTML = docLinkHtml;\n",
              "        element.appendChild(docLink);\n",
              "      }\n",
              "    </script>\n",
              "  </div>\n",
              "\n",
              "\n",
              "    <div id=\"df-6b3c1dbf-9896-4cc0-bbae-c9a0b0d82d15\">\n",
              "      <button class=\"colab-df-quickchart\" onclick=\"quickchart('df-6b3c1dbf-9896-4cc0-bbae-c9a0b0d82d15')\"\n",
              "                title=\"Suggest charts\"\n",
              "                style=\"display:none;\">\n",
              "\n",
              "<svg xmlns=\"http://www.w3.org/2000/svg\" height=\"24px\"viewBox=\"0 0 24 24\"\n",
              "     width=\"24px\">\n",
              "    <g>\n",
              "        <path d=\"M19 3H5c-1.1 0-2 .9-2 2v14c0 1.1.9 2 2 2h14c1.1 0 2-.9 2-2V5c0-1.1-.9-2-2-2zM9 17H7v-7h2v7zm4 0h-2V7h2v10zm4 0h-2v-4h2v4z\"/>\n",
              "    </g>\n",
              "</svg>\n",
              "      </button>\n",
              "\n",
              "<style>\n",
              "  .colab-df-quickchart {\n",
              "      --bg-color: #E8F0FE;\n",
              "      --fill-color: #1967D2;\n",
              "      --hover-bg-color: #E2EBFA;\n",
              "      --hover-fill-color: #174EA6;\n",
              "      --disabled-fill-color: #AAA;\n",
              "      --disabled-bg-color: #DDD;\n",
              "  }\n",
              "\n",
              "  [theme=dark] .colab-df-quickchart {\n",
              "      --bg-color: #3B4455;\n",
              "      --fill-color: #D2E3FC;\n",
              "      --hover-bg-color: #434B5C;\n",
              "      --hover-fill-color: #FFFFFF;\n",
              "      --disabled-bg-color: #3B4455;\n",
              "      --disabled-fill-color: #666;\n",
              "  }\n",
              "\n",
              "  .colab-df-quickchart {\n",
              "    background-color: var(--bg-color);\n",
              "    border: none;\n",
              "    border-radius: 50%;\n",
              "    cursor: pointer;\n",
              "    display: none;\n",
              "    fill: var(--fill-color);\n",
              "    height: 32px;\n",
              "    padding: 0;\n",
              "    width: 32px;\n",
              "  }\n",
              "\n",
              "  .colab-df-quickchart:hover {\n",
              "    background-color: var(--hover-bg-color);\n",
              "    box-shadow: 0 1px 2px rgba(60, 64, 67, 0.3), 0 1px 3px 1px rgba(60, 64, 67, 0.15);\n",
              "    fill: var(--button-hover-fill-color);\n",
              "  }\n",
              "\n",
              "  .colab-df-quickchart-complete:disabled,\n",
              "  .colab-df-quickchart-complete:disabled:hover {\n",
              "    background-color: var(--disabled-bg-color);\n",
              "    fill: var(--disabled-fill-color);\n",
              "    box-shadow: none;\n",
              "  }\n",
              "\n",
              "  .colab-df-spinner {\n",
              "    border: 2px solid var(--fill-color);\n",
              "    border-color: transparent;\n",
              "    border-bottom-color: var(--fill-color);\n",
              "    animation:\n",
              "      spin 1s steps(1) infinite;\n",
              "  }\n",
              "\n",
              "  @keyframes spin {\n",
              "    0% {\n",
              "      border-color: transparent;\n",
              "      border-bottom-color: var(--fill-color);\n",
              "      border-left-color: var(--fill-color);\n",
              "    }\n",
              "    20% {\n",
              "      border-color: transparent;\n",
              "      border-left-color: var(--fill-color);\n",
              "      border-top-color: var(--fill-color);\n",
              "    }\n",
              "    30% {\n",
              "      border-color: transparent;\n",
              "      border-left-color: var(--fill-color);\n",
              "      border-top-color: var(--fill-color);\n",
              "      border-right-color: var(--fill-color);\n",
              "    }\n",
              "    40% {\n",
              "      border-color: transparent;\n",
              "      border-right-color: var(--fill-color);\n",
              "      border-top-color: var(--fill-color);\n",
              "    }\n",
              "    60% {\n",
              "      border-color: transparent;\n",
              "      border-right-color: var(--fill-color);\n",
              "    }\n",
              "    80% {\n",
              "      border-color: transparent;\n",
              "      border-right-color: var(--fill-color);\n",
              "      border-bottom-color: var(--fill-color);\n",
              "    }\n",
              "    90% {\n",
              "      border-color: transparent;\n",
              "      border-bottom-color: var(--fill-color);\n",
              "    }\n",
              "  }\n",
              "</style>\n",
              "\n",
              "      <script>\n",
              "        async function quickchart(key) {\n",
              "          const quickchartButtonEl =\n",
              "            document.querySelector('#' + key + ' button');\n",
              "          quickchartButtonEl.disabled = true;  // To prevent multiple clicks.\n",
              "          quickchartButtonEl.classList.add('colab-df-spinner');\n",
              "          try {\n",
              "            const charts = await google.colab.kernel.invokeFunction(\n",
              "                'suggestCharts', [key], {});\n",
              "          } catch (error) {\n",
              "            console.error('Error during call to suggestCharts:', error);\n",
              "          }\n",
              "          quickchartButtonEl.classList.remove('colab-df-spinner');\n",
              "          quickchartButtonEl.classList.add('colab-df-quickchart-complete');\n",
              "        }\n",
              "        (() => {\n",
              "          let quickchartButtonEl =\n",
              "            document.querySelector('#df-6b3c1dbf-9896-4cc0-bbae-c9a0b0d82d15 button');\n",
              "          quickchartButtonEl.style.display =\n",
              "            google.colab.kernel.accessAllowed ? 'block' : 'none';\n",
              "        })();\n",
              "      </script>\n",
              "    </div>\n",
              "    </div>\n",
              "  </div>\n"
            ],
            "application/vnd.google.colaboratory.intrinsic+json": {
              "type": "dataframe",
              "summary": "{\n  \"name\": \"display(df\",\n  \"rows\": 607,\n  \"fields\": [\n    {\n      \"column\": \"_c0\",\n      \"properties\": {\n        \"dtype\": \"int32\",\n        \"num_unique_values\": 607,\n        \"samples\": [\n          563,\n          289,\n          76\n        ],\n        \"semantic_type\": \"\",\n        \"description\": \"\"\n      }\n    },\n    {\n      \"column\": \"work_year\",\n      \"properties\": {\n        \"dtype\": \"int32\",\n        \"num_unique_values\": 3,\n        \"samples\": [\n          2020,\n          2021,\n          2022\n        ],\n        \"semantic_type\": \"\",\n        \"description\": \"\"\n      }\n    },\n    {\n      \"column\": \"experience_level\",\n      \"properties\": {\n        \"dtype\": \"category\",\n        \"num_unique_values\": 4,\n        \"samples\": [\n          \"SE\",\n          \"EX\",\n          \"MI\"\n        ],\n        \"semantic_type\": \"\",\n        \"description\": \"\"\n      }\n    },\n    {\n      \"column\": \"employment_type\",\n      \"properties\": {\n        \"dtype\": \"category\",\n        \"num_unique_values\": 4,\n        \"samples\": [\n          \"CT\",\n          \"FL\",\n          \"FT\"\n        ],\n        \"semantic_type\": \"\",\n        \"description\": \"\"\n      }\n    },\n    {\n      \"column\": \"job_title\",\n      \"properties\": {\n        \"dtype\": \"category\",\n        \"num_unique_values\": 50,\n        \"samples\": [\n          \"Director of Data Science\",\n          \"Data Architect\",\n          \"Computer Vision Software Engineer\"\n        ],\n        \"semantic_type\": \"\",\n        \"description\": \"\"\n      }\n    },\n    {\n      \"column\": \"salary\",\n      \"properties\": {\n        \"dtype\": \"int32\",\n        \"num_unique_values\": 272,\n        \"samples\": [\n          65000,\n          18000,\n          82500\n        ],\n        \"semantic_type\": \"\",\n        \"description\": \"\"\n      }\n    },\n    {\n      \"column\": \"salary_currency\",\n      \"properties\": {\n        \"dtype\": \"category\",\n        \"num_unique_values\": 17,\n        \"samples\": [\n          \"EUR\",\n          \"USD\",\n          \"JPY\"\n        ],\n        \"semantic_type\": \"\",\n        \"description\": \"\"\n      }\n    },\n    {\n      \"column\": \"salary_in_usd\",\n      \"properties\": {\n        \"dtype\": \"int32\",\n        \"num_unique_values\": 369,\n        \"samples\": [\n          64849,\n          450000,\n          8000\n        ],\n        \"semantic_type\": \"\",\n        \"description\": \"\"\n      }\n    },\n    {\n      \"column\": \"employee_residence\",\n      \"properties\": {\n        \"dtype\": \"category\",\n        \"num_unique_values\": 57,\n        \"samples\": [\n          \"DE\",\n          \"HU\",\n          \"VN\"\n        ],\n        \"semantic_type\": \"\",\n        \"description\": \"\"\n      }\n    },\n    {\n      \"column\": \"remote_ratio\",\n      \"properties\": {\n        \"dtype\": \"int32\",\n        \"num_unique_values\": 3,\n        \"samples\": [\n          0,\n          50,\n          100\n        ],\n        \"semantic_type\": \"\",\n        \"description\": \"\"\n      }\n    },\n    {\n      \"column\": \"company_location\",\n      \"properties\": {\n        \"dtype\": \"category\",\n        \"num_unique_values\": 50,\n        \"samples\": [\n          \"NL\",\n          \"SI\",\n          \"UA\"\n        ],\n        \"semantic_type\": \"\",\n        \"description\": \"\"\n      }\n    },\n    {\n      \"column\": \"company_size\",\n      \"properties\": {\n        \"dtype\": \"category\",\n        \"num_unique_values\": 3,\n        \"samples\": [\n          \"L\",\n          \"S\",\n          \"M\"\n        ],\n        \"semantic_type\": \"\",\n        \"description\": \"\"\n      }\n    }\n  ]\n}"
            }
          },
          "metadata": {}
        }
      ]
    },
    {
      "cell_type": "markdown",
      "source": [
        "create df_job_title that consists from all job_titles without duplicates"
      ],
      "metadata": {
        "id": "CfaLWQobeci6"
      }
    },
    {
      "cell_type": "code",
      "source": [
        "df_job_title = df.select(\"job_title\").distinct()"
      ],
      "metadata": {
        "id": "0e-orajOhNmJ"
      },
      "execution_count": null,
      "outputs": []
    },
    {
      "cell_type": "markdown",
      "source": [
        "print all rows from df_job_titles without truncating jobs"
      ],
      "metadata": {
        "id": "pnPYdN_CemsL"
      }
    },
    {
      "cell_type": "code",
      "source": [
        "df_job_title.show(truncate=False)"
      ],
      "metadata": {
        "colab": {
          "base_uri": "https://localhost:8080/"
        },
        "id": "YxOq0UUdifng",
        "outputId": "d78c51c2-c83a-4f0a-caff-f2bd68f56c82"
      },
      "execution_count": null,
      "outputs": [
        {
          "output_type": "stream",
          "name": "stdout",
          "text": [
            "+----------------------------------------+\n",
            "|job_title                               |\n",
            "+----------------------------------------+\n",
            "|3D Computer Vision Researcher           |\n",
            "|Lead Data Engineer                      |\n",
            "|Head of Machine Learning                |\n",
            "|Data Specialist                         |\n",
            "|Data Analytics Lead                     |\n",
            "|Machine Learning Scientist              |\n",
            "|Lead Data Analyst                       |\n",
            "|Data Engineering Manager                |\n",
            "|Staff Data Scientist                    |\n",
            "|ETL Developer                           |\n",
            "|Director of Data Engineering            |\n",
            "|Product Data Analyst                    |\n",
            "|Principal Data Scientist                |\n",
            "|AI Scientist                            |\n",
            "|Director of Data Science                |\n",
            "|Machine Learning Engineer               |\n",
            "|Lead Data Scientist                     |\n",
            "|Machine Learning Infrastructure Engineer|\n",
            "|Data Science Engineer                   |\n",
            "|Machine Learning Manager                |\n",
            "+----------------------------------------+\n",
            "only showing top 20 rows\n",
            "\n"
          ]
        }
      ]
    },
    {
      "cell_type": "markdown",
      "source": [
        "create df_analytic that will consists from max, avg, min USD salaries for all job_titles using groupBy. name of fields is avg_salary, min_salary, max_salary"
      ],
      "metadata": {
        "id": "kREfkhWlep1q"
      }
    },
    {
      "cell_type": "code",
      "source": [
        "df_analytic = df.groupby(\"job_title\").agg(\n",
        "    max(\"salary_in_usd\").alias(\"max_salary\"),\n",
        "    avg(\"salary_in_usd\").alias(\"avg_salary\"),\n",
        "    min(\"salary_in_usd\").alias(\"min_salary\")\n",
        ")\n",
        "df_analytic.show(truncate=False)"
      ],
      "metadata": {
        "colab": {
          "base_uri": "https://localhost:8080/"
        },
        "id": "Cgn6lEtUiyJ3",
        "outputId": "9d166699-7e2f-4529-e0a1-59b62448cd9b"
      },
      "execution_count": null,
      "outputs": [
        {
          "output_type": "stream",
          "name": "stdout",
          "text": [
            "+----------------------------------------+----------+------------------+----------+\n",
            "|job_title                               |max_salary|avg_salary        |min_salary|\n",
            "+----------------------------------------+----------+------------------+----------+\n",
            "|3D Computer Vision Researcher           |5409      |5409.0            |5409      |\n",
            "|Lead Data Engineer                      |276000    |139724.5          |56000     |\n",
            "|Head of Machine Learning                |79039     |79039.0           |79039     |\n",
            "|Data Specialist                         |165000    |165000.0          |165000    |\n",
            "|Data Analytics Lead                     |405000    |405000.0          |405000    |\n",
            "|Machine Learning Scientist              |260000    |158412.5          |12000     |\n",
            "|Lead Data Analyst                       |170000    |92203.0           |19609     |\n",
            "|Data Engineering Manager                |174000    |123227.2          |59303     |\n",
            "|Staff Data Scientist                    |105000    |105000.0          |105000    |\n",
            "|ETL Developer                           |54957     |54957.0           |54957     |\n",
            "|Director of Data Engineering            |200000    |156738.0          |113476    |\n",
            "|Product Data Analyst                    |20000     |13036.0           |6072      |\n",
            "|Principal Data Scientist                |416000    |215242.42857142858|148261    |\n",
            "|AI Scientist                            |200000    |66135.57142857143 |12000     |\n",
            "|Director of Data Science                |325000    |195074.0          |130026    |\n",
            "|Machine Learning Engineer               |250000    |104880.14634146342|20000     |\n",
            "|Lead Data Scientist                     |190000    |115190.0          |40570     |\n",
            "|Machine Learning Infrastructure Engineer|195000    |101145.0          |50180     |\n",
            "|Data Science Engineer                   |127221    |75803.33333333333 |40189     |\n",
            "|Machine Learning Manager                |117104    |117104.0          |117104    |\n",
            "+----------------------------------------+----------+------------------+----------+\n",
            "only showing top 20 rows\n",
            "\n"
          ]
        }
      ]
    },
    {
      "cell_type": "markdown",
      "source": [
        "now you need to add in df_analytic column row_id, that will show order of all job_titles depending on avg salary. they should be descending"
      ],
      "metadata": {
        "id": "veTltdRRevwz"
      }
    },
    {
      "cell_type": "code",
      "source": [
        "from pyspark.sql.functions import desc\n",
        "\n",
        "window_function = Window.orderBy(desc(\"avg_salary\"))\n",
        "df_analytic_with_id = df_analytic.withColumn(\"row_id\", row_number().over(window_function))\n",
        "df_analytic_with_id.show(truncate=False)"
      ],
      "metadata": {
        "colab": {
          "base_uri": "https://localhost:8080/"
        },
        "id": "xg8m5_kdqeZD",
        "outputId": "50f80496-1876-4477-f60f-1521a493fe5e"
      },
      "execution_count": null,
      "outputs": [
        {
          "output_type": "stream",
          "name": "stdout",
          "text": [
            "+----------------------------------+----------+------------------+----------+------+\n",
            "|job_title                         |max_salary|avg_salary        |min_salary|row_id|\n",
            "+----------------------------------+----------+------------------+----------+------+\n",
            "|Data Analytics Lead               |405000    |405000.0          |405000    |1     |\n",
            "|Principal Data Engineer           |600000    |328333.3333333333 |185000    |2     |\n",
            "|Financial Data Analyst            |450000    |275000.0          |100000    |3     |\n",
            "|Principal Data Scientist          |416000    |215242.42857142858|148261    |4     |\n",
            "|Director of Data Science          |325000    |195074.0          |130026    |5     |\n",
            "|Data Architect                    |266400    |177873.9090909091 |90700     |6     |\n",
            "|Applied Data Scientist            |380000    |175655.0          |54238     |7     |\n",
            "|Analytics Engineer                |205300    |175000.0          |135000    |8     |\n",
            "|Data Specialist                   |165000    |165000.0          |165000    |9     |\n",
            "|Head of Data                      |235000    |160162.6          |32974     |10    |\n",
            "|Machine Learning Scientist        |260000    |158412.5          |12000     |11    |\n",
            "|Data Science Manager              |241000    |158328.5          |54094     |12    |\n",
            "|Director of Data Engineering      |200000    |156738.0          |113476    |13    |\n",
            "|Head of Data Science              |224000    |146718.75         |85000     |14    |\n",
            "|Applied Machine Learning Scientist|423000    |142068.75         |31875     |15    |\n",
            "|Lead Data Engineer                |276000    |139724.5          |56000     |16    |\n",
            "|Data Analytics Manager            |150260    |127134.28571428571|105400    |17    |\n",
            "|Cloud Data Engineer               |160000    |124647.0          |89294     |18    |\n",
            "|Data Engineering Manager          |174000    |123227.2          |59303     |19    |\n",
            "|Principal Data Analyst            |170000    |122500.0          |75000     |20    |\n",
            "+----------------------------------+----------+------------------+----------+------+\n",
            "only showing top 20 rows\n",
            "\n"
          ]
        }
      ]
    },
    {
      "cell_type": "markdown",
      "source": [
        "it isn't beautifull, so we need to put now row_id on first place in df_analytic"
      ],
      "metadata": {
        "id": "LLKTe2WCe3V9"
      }
    },
    {
      "cell_type": "code",
      "source": [
        "cols = [\"row_id\"] + [col for col in df_analytic_with_id.columns if col != \"row_id\"]\n",
        "df_analytic_with_id = df_analytic_with_id.select(cols)\n",
        "df_analytic_with_id.show(truncate=False)"
      ],
      "metadata": {
        "colab": {
          "base_uri": "https://localhost:8080/"
        },
        "id": "Z1q_RFuPsMjy",
        "outputId": "2039c63e-7df5-4d1f-e7bb-ea9f8f05df9d"
      },
      "execution_count": null,
      "outputs": [
        {
          "output_type": "stream",
          "name": "stdout",
          "text": [
            "+------+----------------------------------+----------+------------------+----------+\n",
            "|row_id|job_title                         |max_salary|avg_salary        |min_salary|\n",
            "+------+----------------------------------+----------+------------------+----------+\n",
            "|1     |Data Analytics Lead               |405000    |405000.0          |405000    |\n",
            "|2     |Principal Data Engineer           |600000    |328333.3333333333 |185000    |\n",
            "|3     |Financial Data Analyst            |450000    |275000.0          |100000    |\n",
            "|4     |Principal Data Scientist          |416000    |215242.42857142858|148261    |\n",
            "|5     |Director of Data Science          |325000    |195074.0          |130026    |\n",
            "|6     |Data Architect                    |266400    |177873.9090909091 |90700     |\n",
            "|7     |Applied Data Scientist            |380000    |175655.0          |54238     |\n",
            "|8     |Analytics Engineer                |205300    |175000.0          |135000    |\n",
            "|9     |Data Specialist                   |165000    |165000.0          |165000    |\n",
            "|10    |Head of Data                      |235000    |160162.6          |32974     |\n",
            "|11    |Machine Learning Scientist        |260000    |158412.5          |12000     |\n",
            "|12    |Data Science Manager              |241000    |158328.5          |54094     |\n",
            "|13    |Director of Data Engineering      |200000    |156738.0          |113476    |\n",
            "|14    |Head of Data Science              |224000    |146718.75         |85000     |\n",
            "|15    |Applied Machine Learning Scientist|423000    |142068.75         |31875     |\n",
            "|16    |Lead Data Engineer                |276000    |139724.5          |56000     |\n",
            "|17    |Data Analytics Manager            |150260    |127134.28571428571|105400    |\n",
            "|18    |Cloud Data Engineer               |160000    |124647.0          |89294     |\n",
            "|19    |Data Engineering Manager          |174000    |123227.2          |59303     |\n",
            "|20    |Principal Data Analyst            |170000    |122500.0          |75000     |\n",
            "+------+----------------------------------+----------+------------------+----------+\n",
            "only showing top 20 rows\n",
            "\n"
          ]
        }
      ]
    },
    {
      "cell_type": "markdown",
      "source": [
        "here you need to create df_exp_lvl with the biggest usd_salary(biggest_salary) for each experience_level(you need to save all fields like in entire dataframe)"
      ],
      "metadata": {
        "id": "BNihyNYRfCam"
      }
    },
    {
      "cell_type": "code",
      "source": [
        "window_func = Window.partitionBy(\"experience_level\").orderBy(desc(\"salary_in_usd\"))\n",
        "df_with_rank = df.withColumn(\"rank\", row_number().over(window_func))\n",
        "df_exp_lvl = df_with_rank.filter(col(\"rank\") == 1).drop(\"rank\")\n",
        "df_exp_lvl.show(truncate=False)"
      ],
      "metadata": {
        "colab": {
          "base_uri": "https://localhost:8080/"
        },
        "id": "u233Yyrzs2h-",
        "outputId": "5ba44858-c7da-495b-fcfe-8b5c1a9bd8e1"
      },
      "execution_count": null,
      "outputs": [
        {
          "output_type": "stream",
          "name": "stdout",
          "text": [
            "+---+---------+----------------+---------------+-------------------------+------+---------------+-------------+------------------+------------+----------------+------------+\n",
            "|_c0|work_year|experience_level|employment_type|job_title                |salary|salary_currency|salary_in_usd|employee_residence|remote_ratio|company_location|company_size|\n",
            "+---+---------+----------------+---------------+-------------------------+------+---------------+-------------+------------------+------------+----------------+------------+\n",
            "|37 |2020     |EN              |FT             |Machine Learning Engineer|250000|USD            |250000       |US                |50          |US              |L           |\n",
            "|252|2021     |EX              |FT             |Principal Data Engineer  |600000|USD            |600000       |US                |100         |US              |L           |\n",
            "|33 |2020     |MI              |FT             |Research Scientist       |450000|USD            |450000       |US                |0           |US              |M           |\n",
            "|63 |2020     |SE              |FT             |Data Scientist           |412000|USD            |412000       |US                |100         |US              |L           |\n",
            "+---+---------+----------------+---------------+-------------------------+------+---------------+-------------+------------------+------------+----------------+------------+\n",
            "\n"
          ]
        }
      ]
    },
    {
      "cell_type": "markdown",
      "source": [
        "create df_best that consists from rows where salary of guy same as biggest salary for other people in his exp_lvl and choose only columns: id, experience_level, biggest_salary, employee_residence"
      ],
      "metadata": {
        "id": "sA5nJrrpfDrh"
      }
    },
    {
      "cell_type": "code",
      "source": [
        "max_salaries = df.groupBy(\"experience_level\").agg(max(\"salary_in_usd\").alias(\"biggest_salary\"))\n",
        "df_best = df.join(max_salaries, on=\"experience_level\").filter(col(\"salary_in_usd\") == col(\"biggest_salary\")).select(\n",
        "    col(\"_c0\").alias(\"id\"),\n",
        "    col(\"experience_level\"),\n",
        "    col(\"biggest_salary\"),\n",
        "    col(\"employee_residence\")\n",
        ")\n",
        "df_best.show(truncate=False)"
      ],
      "metadata": {
        "colab": {
          "base_uri": "https://localhost:8080/"
        },
        "id": "2N2v3ml3u3t6",
        "outputId": "21347482-2a81-440b-af9d-2e9632d58071"
      },
      "execution_count": null,
      "outputs": [
        {
          "output_type": "stream",
          "name": "stdout",
          "text": [
            "+---+----------------+--------------+------------------+\n",
            "|id |experience_level|biggest_salary|employee_residence|\n",
            "+---+----------------+--------------+------------------+\n",
            "|33 |MI              |450000        |US                |\n",
            "|37 |EN              |250000        |US                |\n",
            "|63 |SE              |412000        |US                |\n",
            "|97 |MI              |450000        |US                |\n",
            "|252|EX              |600000        |US                |\n",
            "+---+----------------+--------------+------------------+\n",
            "\n"
          ]
        }
      ]
    },
    {
      "cell_type": "markdown",
      "source": [
        "drop duplicates if exist by experience_level"
      ],
      "metadata": {
        "id": "9TFsH8JNfHu7"
      }
    },
    {
      "cell_type": "code",
      "source": [
        "df_best_unique = df_best.dropDuplicates([\"experience_level\"])\n",
        "df_best_unique.show(truncate=False)"
      ],
      "metadata": {
        "colab": {
          "base_uri": "https://localhost:8080/"
        },
        "id": "SPVwPA81yOud",
        "outputId": "6caec162-ef1b-42f8-aadc-dbc2006e9b39"
      },
      "execution_count": null,
      "outputs": [
        {
          "output_type": "stream",
          "name": "stdout",
          "text": [
            "+---+----------------+--------------+------------------+\n",
            "|id |experience_level|biggest_salary|employee_residence|\n",
            "+---+----------------+--------------+------------------+\n",
            "|37 |EN              |250000        |US                |\n",
            "|252|EX              |600000        |US                |\n",
            "|33 |MI              |450000        |US                |\n",
            "|63 |SE              |412000        |US                |\n",
            "+---+----------------+--------------+------------------+\n",
            "\n"
          ]
        }
      ]
    },
    {
      "cell_type": "markdown",
      "source": [
        "create df_new_best from df_best without id, and make the next: when exp_level = MI we want middle, when SE we want senior, else Null"
      ],
      "metadata": {
        "id": "sDEhzVKtfL12"
      }
    },
    {
      "cell_type": "code",
      "source": [
        "df_new_best = df_best_unique.drop(\"id\").withColumn(\"exp_level_desc\", when(col(\"experience_level\") == \"MI\", \"middle\").when(col(\"experience_level\") == \"SE\", \"senior\").otherwise(None))\n",
        "df_new_best.show(truncate=False)"
      ],
      "metadata": {
        "colab": {
          "base_uri": "https://localhost:8080/"
        },
        "id": "NJoNCFuoyqkn",
        "outputId": "e31de66d-996d-475c-f766-f42bd5ca64d1"
      },
      "execution_count": null,
      "outputs": [
        {
          "output_type": "stream",
          "name": "stdout",
          "text": [
            "+----------------+--------------+------------------+--------------+\n",
            "|experience_level|biggest_salary|employee_residence|exp_level_desc|\n",
            "+----------------+--------------+------------------+--------------+\n",
            "|EN              |250000        |US                |NULL          |\n",
            "|EX              |600000        |US                |NULL          |\n",
            "|MI              |450000        |US                |middle        |\n",
            "|SE              |412000        |US                |senior        |\n",
            "+----------------+--------------+------------------+--------------+\n",
            "\n"
          ]
        }
      ]
    },
    {
      "cell_type": "markdown",
      "source": [
        "write df_new_best like 1.csv and load then it to df_final"
      ],
      "metadata": {
        "id": "idxsJo8ufR5Y"
      }
    },
    {
      "cell_type": "code",
      "source": [
        "df_new_best.coalesce(1).write.mode(\"overwrite\").option(\"header\", True).csv(\"1.csv\")\n",
        "df_final = spark.read.option(\"header\", True).csv(\"1.csv\")\n",
        "df_final.show(truncate=False)"
      ],
      "metadata": {
        "colab": {
          "base_uri": "https://localhost:8080/"
        },
        "id": "SPTI9Pt-1OI-",
        "outputId": "006f252c-b0f8-4d37-b4b0-5307651c4d1b"
      },
      "execution_count": null,
      "outputs": [
        {
          "output_type": "stream",
          "name": "stdout",
          "text": [
            "+----------------+--------------+------------------+--------------+\n",
            "|experience_level|biggest_salary|employee_residence|exp_level_desc|\n",
            "+----------------+--------------+------------------+--------------+\n",
            "|EN              |250000        |US                |NULL          |\n",
            "|EX              |600000        |US                |NULL          |\n",
            "|MI              |450000        |US                |middle        |\n",
            "|SE              |412000        |US                |senior        |\n",
            "+----------------+--------------+------------------+--------------+\n",
            "\n"
          ]
        }
      ]
    },
    {
      "cell_type": "markdown",
      "source": [
        "filter df_final to delete experience_level where it Null, then join this table by biggest_salary(salary_in_usd) and employee_residence with entire df"
      ],
      "metadata": {
        "id": "y_lau-NSfU3s"
      }
    },
    {
      "cell_type": "code",
      "source": [
        "df_filtered = df_final.filter(col(\"experience_level\").isNotNull())\n",
        "df_joined = df_filtered.join(df, (df_filtered.biggest_salary == df.salary_in_usd) & (df_filtered.employee_residence == df.employee_residence), how=\"inner\")\n",
        "df_joined.show(truncate=False)"
      ],
      "metadata": {
        "colab": {
          "base_uri": "https://localhost:8080/"
        },
        "id": "nZk2r3Xo2UrT",
        "outputId": "1bfcc27a-143b-4041-b60e-7c07aff973d1"
      },
      "execution_count": null,
      "outputs": [
        {
          "output_type": "stream",
          "name": "stdout",
          "text": [
            "+----------------+--------------+------------------+--------------+---+---------+----------------+---------------+-------------------------+------+---------------+-------------+------------------+------------+----------------+------------+\n",
            "|experience_level|biggest_salary|employee_residence|exp_level_desc|_c0|work_year|experience_level|employment_type|job_title                |salary|salary_currency|salary_in_usd|employee_residence|remote_ratio|company_location|company_size|\n",
            "+----------------+--------------+------------------+--------------+---+---------+----------------+---------------+-------------------------+------+---------------+-------------+------------------+------------+----------------+------------+\n",
            "|MI              |450000        |US                |middle        |33 |2020     |MI              |FT             |Research Scientist       |450000|USD            |450000       |US                |0           |US              |M           |\n",
            "|EN              |250000        |US                |NULL          |37 |2020     |EN              |FT             |Machine Learning Engineer|250000|USD            |250000       |US                |50          |US              |L           |\n",
            "|SE              |412000        |US                |senior        |63 |2020     |SE              |FT             |Data Scientist           |412000|USD            |412000       |US                |100         |US              |L           |\n",
            "|MI              |450000        |US                |middle        |97 |2021     |MI              |FT             |Financial Data Analyst   |450000|USD            |450000       |US                |100         |US              |L           |\n",
            "|EN              |250000        |US                |NULL          |167|2021     |EX              |FT             |Director of Data Science |250000|USD            |250000       |US                |0           |US              |L           |\n",
            "|EX              |600000        |US                |NULL          |252|2021     |EX              |FT             |Principal Data Engineer  |600000|USD            |600000       |US                |100         |US              |L           |\n",
            "+----------------+--------------+------------------+--------------+---+---------+----------------+---------------+-------------------------+------+---------------+-------------+------------------+------------+----------------+------------+\n",
            "\n"
          ]
        }
      ]
    },
    {
      "cell_type": "markdown",
      "source": [
        "last task is to save in variable and then print this variable of the biggest salary_in_usd from df_final"
      ],
      "metadata": {
        "id": "Mtlv1KMmfYov"
      }
    },
    {
      "cell_type": "code",
      "source": [
        "max_salary_usd = df_final.agg(max(\"biggest_salary\")).collect()[0][0]\n",
        "print(f\"Max salary_in_usd in df_final: {max_salary_usd}\")\n"
      ],
      "metadata": {
        "colab": {
          "base_uri": "https://localhost:8080/"
        },
        "id": "wa8NJmmP5z5e",
        "outputId": "e0c1319d-0b1f-4512-85a2-8f05e6af2dd3"
      },
      "execution_count": null,
      "outputs": [
        {
          "output_type": "stream",
          "name": "stdout",
          "text": [
            "Max salary_in_usd in df_final: 600000\n"
          ]
        }
      ]
    }
  ]
}